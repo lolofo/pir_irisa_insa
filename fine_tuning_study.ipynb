{
 "cells": [
  {
   "cell_type": "markdown",
   "id": "7390a61c-84f3-4aac-a367-7f9ef8c175f0",
   "metadata": {},
   "source": [
    "# Load the data"
   ]
  },
  {
   "cell_type": "code",
   "execution_count": 1,
   "id": "86fbd559-ed0e-411f-8929-ae1688cf5413",
   "metadata": {},
   "outputs": [],
   "source": [
    "import torch\n",
    "import datasets\n",
    "import numpy as np\n",
    "import pandas as pd"
   ]
  },
  {
   "cell_type": "code",
   "execution_count": 2,
   "id": "cce097e3-ea48-466e-88a7-0a4260f416a0",
   "metadata": {},
   "outputs": [],
   "source": [
    "datadir_camembert = \"camembert-tokens.datasets\"\n",
    "datadir_flaubert = \"flaubert-tokens.datasets\""
   ]
  },
  {
   "cell_type": "code",
   "execution_count": 3,
   "id": "fda1dd1f-749e-4038-bed9-f0a97677b86b",
   "metadata": {},
   "outputs": [],
   "source": [
    "tokenized_datasets_camembert = datasets.load_from_disk(datadir_camembert)\n",
    "tokenized_datasets_flaubert = datasets.load_from_disk(datadir_flaubert)"
   ]
  },
  {
   "cell_type": "code",
   "execution_count": 4,
   "id": "5939e8b1-6ed2-4920-963d-7c616adab9d7",
   "metadata": {},
   "outputs": [],
   "source": [
    "test_dataset_camembert = tokenized_datasets_camembert[\"test\"].select(range(50))\n",
    "test_dataset_flaubert = tokenized_datasets_flaubert[\"test\"].select(range(50))"
   ]
  },
  {
   "cell_type": "markdown",
   "id": "19365e31-a003-4a4b-8709-6a4abdeb5927",
   "metadata": {},
   "source": [
    "# Load the models"
   ]
  },
  {
   "cell_type": "code",
   "execution_count": 5,
   "id": "cd594715-f785-46aa-b754-60ea6dc95442",
   "metadata": {},
   "outputs": [
    {
     "name": "stderr",
     "output_type": "stream",
     "text": [
      "Some weights of FlaubertForSequenceClassification were not initialized from the model checkpoint at ./flaubert_base_cased_1 and are newly initialized: ['transformer.position_ids']\n",
      "You should probably TRAIN this model on a down-stream task to be able to use it for predictions and inference.\n"
     ]
    }
   ],
   "source": [
    "from transformers import FlaubertForSequenceClassification\n",
    "from transformers import CamembertForSequenceClassification\n",
    "\n",
    "# flaubert\n",
    "model_name_fb = './flaubert_base_cased_1'\n",
    "model_flaubert = FlaubertForSequenceClassification.from_pretrained(model_name_fb, \n",
    "                                                                   num_labels = 2, \n",
    "                                                                   output_attentions = False, \n",
    "                                                                   output_hidden_states = True)\n",
    "\n",
    "\n",
    "# camembert\n",
    "model_name_cb = './camembert_base_1'\n",
    "model_camembert = CamembertForSequenceClassification.from_pretrained(model_name_cb, \n",
    "                                                                   num_labels = 2, \n",
    "                                                                   output_attentions = False, \n",
    "                                                                   output_hidden_states = True)\n",
    "\n",
    "\n",
    "\n"
   ]
  },
  {
   "cell_type": "code",
   "execution_count": 6,
   "id": "6dbb1a59-71be-459f-af05-288bc553af0b",
   "metadata": {},
   "outputs": [
    {
     "data": {
      "text/plain": [
       "CamembertForSequenceClassification(\n",
       "  (roberta): RobertaModel(\n",
       "    (embeddings): RobertaEmbeddings(\n",
       "      (word_embeddings): Embedding(32005, 768, padding_idx=1)\n",
       "      (position_embeddings): Embedding(514, 768, padding_idx=1)\n",
       "      (token_type_embeddings): Embedding(1, 768)\n",
       "      (LayerNorm): LayerNorm((768,), eps=1e-05, elementwise_affine=True)\n",
       "      (dropout): Dropout(p=0.1, inplace=False)\n",
       "    )\n",
       "    (encoder): RobertaEncoder(\n",
       "      (layer): ModuleList(\n",
       "        (0): RobertaLayer(\n",
       "          (attention): RobertaAttention(\n",
       "            (self): RobertaSelfAttention(\n",
       "              (query): Linear(in_features=768, out_features=768, bias=True)\n",
       "              (key): Linear(in_features=768, out_features=768, bias=True)\n",
       "              (value): Linear(in_features=768, out_features=768, bias=True)\n",
       "              (dropout): Dropout(p=0.1, inplace=False)\n",
       "            )\n",
       "            (output): RobertaSelfOutput(\n",
       "              (dense): Linear(in_features=768, out_features=768, bias=True)\n",
       "              (LayerNorm): LayerNorm((768,), eps=1e-05, elementwise_affine=True)\n",
       "              (dropout): Dropout(p=0.1, inplace=False)\n",
       "            )\n",
       "          )\n",
       "          (intermediate): RobertaIntermediate(\n",
       "            (dense): Linear(in_features=768, out_features=3072, bias=True)\n",
       "          )\n",
       "          (output): RobertaOutput(\n",
       "            (dense): Linear(in_features=3072, out_features=768, bias=True)\n",
       "            (LayerNorm): LayerNorm((768,), eps=1e-05, elementwise_affine=True)\n",
       "            (dropout): Dropout(p=0.1, inplace=False)\n",
       "          )\n",
       "        )\n",
       "        (1): RobertaLayer(\n",
       "          (attention): RobertaAttention(\n",
       "            (self): RobertaSelfAttention(\n",
       "              (query): Linear(in_features=768, out_features=768, bias=True)\n",
       "              (key): Linear(in_features=768, out_features=768, bias=True)\n",
       "              (value): Linear(in_features=768, out_features=768, bias=True)\n",
       "              (dropout): Dropout(p=0.1, inplace=False)\n",
       "            )\n",
       "            (output): RobertaSelfOutput(\n",
       "              (dense): Linear(in_features=768, out_features=768, bias=True)\n",
       "              (LayerNorm): LayerNorm((768,), eps=1e-05, elementwise_affine=True)\n",
       "              (dropout): Dropout(p=0.1, inplace=False)\n",
       "            )\n",
       "          )\n",
       "          (intermediate): RobertaIntermediate(\n",
       "            (dense): Linear(in_features=768, out_features=3072, bias=True)\n",
       "          )\n",
       "          (output): RobertaOutput(\n",
       "            (dense): Linear(in_features=3072, out_features=768, bias=True)\n",
       "            (LayerNorm): LayerNorm((768,), eps=1e-05, elementwise_affine=True)\n",
       "            (dropout): Dropout(p=0.1, inplace=False)\n",
       "          )\n",
       "        )\n",
       "        (2): RobertaLayer(\n",
       "          (attention): RobertaAttention(\n",
       "            (self): RobertaSelfAttention(\n",
       "              (query): Linear(in_features=768, out_features=768, bias=True)\n",
       "              (key): Linear(in_features=768, out_features=768, bias=True)\n",
       "              (value): Linear(in_features=768, out_features=768, bias=True)\n",
       "              (dropout): Dropout(p=0.1, inplace=False)\n",
       "            )\n",
       "            (output): RobertaSelfOutput(\n",
       "              (dense): Linear(in_features=768, out_features=768, bias=True)\n",
       "              (LayerNorm): LayerNorm((768,), eps=1e-05, elementwise_affine=True)\n",
       "              (dropout): Dropout(p=0.1, inplace=False)\n",
       "            )\n",
       "          )\n",
       "          (intermediate): RobertaIntermediate(\n",
       "            (dense): Linear(in_features=768, out_features=3072, bias=True)\n",
       "          )\n",
       "          (output): RobertaOutput(\n",
       "            (dense): Linear(in_features=3072, out_features=768, bias=True)\n",
       "            (LayerNorm): LayerNorm((768,), eps=1e-05, elementwise_affine=True)\n",
       "            (dropout): Dropout(p=0.1, inplace=False)\n",
       "          )\n",
       "        )\n",
       "        (3): RobertaLayer(\n",
       "          (attention): RobertaAttention(\n",
       "            (self): RobertaSelfAttention(\n",
       "              (query): Linear(in_features=768, out_features=768, bias=True)\n",
       "              (key): Linear(in_features=768, out_features=768, bias=True)\n",
       "              (value): Linear(in_features=768, out_features=768, bias=True)\n",
       "              (dropout): Dropout(p=0.1, inplace=False)\n",
       "            )\n",
       "            (output): RobertaSelfOutput(\n",
       "              (dense): Linear(in_features=768, out_features=768, bias=True)\n",
       "              (LayerNorm): LayerNorm((768,), eps=1e-05, elementwise_affine=True)\n",
       "              (dropout): Dropout(p=0.1, inplace=False)\n",
       "            )\n",
       "          )\n",
       "          (intermediate): RobertaIntermediate(\n",
       "            (dense): Linear(in_features=768, out_features=3072, bias=True)\n",
       "          )\n",
       "          (output): RobertaOutput(\n",
       "            (dense): Linear(in_features=3072, out_features=768, bias=True)\n",
       "            (LayerNorm): LayerNorm((768,), eps=1e-05, elementwise_affine=True)\n",
       "            (dropout): Dropout(p=0.1, inplace=False)\n",
       "          )\n",
       "        )\n",
       "        (4): RobertaLayer(\n",
       "          (attention): RobertaAttention(\n",
       "            (self): RobertaSelfAttention(\n",
       "              (query): Linear(in_features=768, out_features=768, bias=True)\n",
       "              (key): Linear(in_features=768, out_features=768, bias=True)\n",
       "              (value): Linear(in_features=768, out_features=768, bias=True)\n",
       "              (dropout): Dropout(p=0.1, inplace=False)\n",
       "            )\n",
       "            (output): RobertaSelfOutput(\n",
       "              (dense): Linear(in_features=768, out_features=768, bias=True)\n",
       "              (LayerNorm): LayerNorm((768,), eps=1e-05, elementwise_affine=True)\n",
       "              (dropout): Dropout(p=0.1, inplace=False)\n",
       "            )\n",
       "          )\n",
       "          (intermediate): RobertaIntermediate(\n",
       "            (dense): Linear(in_features=768, out_features=3072, bias=True)\n",
       "          )\n",
       "          (output): RobertaOutput(\n",
       "            (dense): Linear(in_features=3072, out_features=768, bias=True)\n",
       "            (LayerNorm): LayerNorm((768,), eps=1e-05, elementwise_affine=True)\n",
       "            (dropout): Dropout(p=0.1, inplace=False)\n",
       "          )\n",
       "        )\n",
       "        (5): RobertaLayer(\n",
       "          (attention): RobertaAttention(\n",
       "            (self): RobertaSelfAttention(\n",
       "              (query): Linear(in_features=768, out_features=768, bias=True)\n",
       "              (key): Linear(in_features=768, out_features=768, bias=True)\n",
       "              (value): Linear(in_features=768, out_features=768, bias=True)\n",
       "              (dropout): Dropout(p=0.1, inplace=False)\n",
       "            )\n",
       "            (output): RobertaSelfOutput(\n",
       "              (dense): Linear(in_features=768, out_features=768, bias=True)\n",
       "              (LayerNorm): LayerNorm((768,), eps=1e-05, elementwise_affine=True)\n",
       "              (dropout): Dropout(p=0.1, inplace=False)\n",
       "            )\n",
       "          )\n",
       "          (intermediate): RobertaIntermediate(\n",
       "            (dense): Linear(in_features=768, out_features=3072, bias=True)\n",
       "          )\n",
       "          (output): RobertaOutput(\n",
       "            (dense): Linear(in_features=3072, out_features=768, bias=True)\n",
       "            (LayerNorm): LayerNorm((768,), eps=1e-05, elementwise_affine=True)\n",
       "            (dropout): Dropout(p=0.1, inplace=False)\n",
       "          )\n",
       "        )\n",
       "        (6): RobertaLayer(\n",
       "          (attention): RobertaAttention(\n",
       "            (self): RobertaSelfAttention(\n",
       "              (query): Linear(in_features=768, out_features=768, bias=True)\n",
       "              (key): Linear(in_features=768, out_features=768, bias=True)\n",
       "              (value): Linear(in_features=768, out_features=768, bias=True)\n",
       "              (dropout): Dropout(p=0.1, inplace=False)\n",
       "            )\n",
       "            (output): RobertaSelfOutput(\n",
       "              (dense): Linear(in_features=768, out_features=768, bias=True)\n",
       "              (LayerNorm): LayerNorm((768,), eps=1e-05, elementwise_affine=True)\n",
       "              (dropout): Dropout(p=0.1, inplace=False)\n",
       "            )\n",
       "          )\n",
       "          (intermediate): RobertaIntermediate(\n",
       "            (dense): Linear(in_features=768, out_features=3072, bias=True)\n",
       "          )\n",
       "          (output): RobertaOutput(\n",
       "            (dense): Linear(in_features=3072, out_features=768, bias=True)\n",
       "            (LayerNorm): LayerNorm((768,), eps=1e-05, elementwise_affine=True)\n",
       "            (dropout): Dropout(p=0.1, inplace=False)\n",
       "          )\n",
       "        )\n",
       "        (7): RobertaLayer(\n",
       "          (attention): RobertaAttention(\n",
       "            (self): RobertaSelfAttention(\n",
       "              (query): Linear(in_features=768, out_features=768, bias=True)\n",
       "              (key): Linear(in_features=768, out_features=768, bias=True)\n",
       "              (value): Linear(in_features=768, out_features=768, bias=True)\n",
       "              (dropout): Dropout(p=0.1, inplace=False)\n",
       "            )\n",
       "            (output): RobertaSelfOutput(\n",
       "              (dense): Linear(in_features=768, out_features=768, bias=True)\n",
       "              (LayerNorm): LayerNorm((768,), eps=1e-05, elementwise_affine=True)\n",
       "              (dropout): Dropout(p=0.1, inplace=False)\n",
       "            )\n",
       "          )\n",
       "          (intermediate): RobertaIntermediate(\n",
       "            (dense): Linear(in_features=768, out_features=3072, bias=True)\n",
       "          )\n",
       "          (output): RobertaOutput(\n",
       "            (dense): Linear(in_features=3072, out_features=768, bias=True)\n",
       "            (LayerNorm): LayerNorm((768,), eps=1e-05, elementwise_affine=True)\n",
       "            (dropout): Dropout(p=0.1, inplace=False)\n",
       "          )\n",
       "        )\n",
       "        (8): RobertaLayer(\n",
       "          (attention): RobertaAttention(\n",
       "            (self): RobertaSelfAttention(\n",
       "              (query): Linear(in_features=768, out_features=768, bias=True)\n",
       "              (key): Linear(in_features=768, out_features=768, bias=True)\n",
       "              (value): Linear(in_features=768, out_features=768, bias=True)\n",
       "              (dropout): Dropout(p=0.1, inplace=False)\n",
       "            )\n",
       "            (output): RobertaSelfOutput(\n",
       "              (dense): Linear(in_features=768, out_features=768, bias=True)\n",
       "              (LayerNorm): LayerNorm((768,), eps=1e-05, elementwise_affine=True)\n",
       "              (dropout): Dropout(p=0.1, inplace=False)\n",
       "            )\n",
       "          )\n",
       "          (intermediate): RobertaIntermediate(\n",
       "            (dense): Linear(in_features=768, out_features=3072, bias=True)\n",
       "          )\n",
       "          (output): RobertaOutput(\n",
       "            (dense): Linear(in_features=3072, out_features=768, bias=True)\n",
       "            (LayerNorm): LayerNorm((768,), eps=1e-05, elementwise_affine=True)\n",
       "            (dropout): Dropout(p=0.1, inplace=False)\n",
       "          )\n",
       "        )\n",
       "        (9): RobertaLayer(\n",
       "          (attention): RobertaAttention(\n",
       "            (self): RobertaSelfAttention(\n",
       "              (query): Linear(in_features=768, out_features=768, bias=True)\n",
       "              (key): Linear(in_features=768, out_features=768, bias=True)\n",
       "              (value): Linear(in_features=768, out_features=768, bias=True)\n",
       "              (dropout): Dropout(p=0.1, inplace=False)\n",
       "            )\n",
       "            (output): RobertaSelfOutput(\n",
       "              (dense): Linear(in_features=768, out_features=768, bias=True)\n",
       "              (LayerNorm): LayerNorm((768,), eps=1e-05, elementwise_affine=True)\n",
       "              (dropout): Dropout(p=0.1, inplace=False)\n",
       "            )\n",
       "          )\n",
       "          (intermediate): RobertaIntermediate(\n",
       "            (dense): Linear(in_features=768, out_features=3072, bias=True)\n",
       "          )\n",
       "          (output): RobertaOutput(\n",
       "            (dense): Linear(in_features=3072, out_features=768, bias=True)\n",
       "            (LayerNorm): LayerNorm((768,), eps=1e-05, elementwise_affine=True)\n",
       "            (dropout): Dropout(p=0.1, inplace=False)\n",
       "          )\n",
       "        )\n",
       "        (10): RobertaLayer(\n",
       "          (attention): RobertaAttention(\n",
       "            (self): RobertaSelfAttention(\n",
       "              (query): Linear(in_features=768, out_features=768, bias=True)\n",
       "              (key): Linear(in_features=768, out_features=768, bias=True)\n",
       "              (value): Linear(in_features=768, out_features=768, bias=True)\n",
       "              (dropout): Dropout(p=0.1, inplace=False)\n",
       "            )\n",
       "            (output): RobertaSelfOutput(\n",
       "              (dense): Linear(in_features=768, out_features=768, bias=True)\n",
       "              (LayerNorm): LayerNorm((768,), eps=1e-05, elementwise_affine=True)\n",
       "              (dropout): Dropout(p=0.1, inplace=False)\n",
       "            )\n",
       "          )\n",
       "          (intermediate): RobertaIntermediate(\n",
       "            (dense): Linear(in_features=768, out_features=3072, bias=True)\n",
       "          )\n",
       "          (output): RobertaOutput(\n",
       "            (dense): Linear(in_features=3072, out_features=768, bias=True)\n",
       "            (LayerNorm): LayerNorm((768,), eps=1e-05, elementwise_affine=True)\n",
       "            (dropout): Dropout(p=0.1, inplace=False)\n",
       "          )\n",
       "        )\n",
       "        (11): RobertaLayer(\n",
       "          (attention): RobertaAttention(\n",
       "            (self): RobertaSelfAttention(\n",
       "              (query): Linear(in_features=768, out_features=768, bias=True)\n",
       "              (key): Linear(in_features=768, out_features=768, bias=True)\n",
       "              (value): Linear(in_features=768, out_features=768, bias=True)\n",
       "              (dropout): Dropout(p=0.1, inplace=False)\n",
       "            )\n",
       "            (output): RobertaSelfOutput(\n",
       "              (dense): Linear(in_features=768, out_features=768, bias=True)\n",
       "              (LayerNorm): LayerNorm((768,), eps=1e-05, elementwise_affine=True)\n",
       "              (dropout): Dropout(p=0.1, inplace=False)\n",
       "            )\n",
       "          )\n",
       "          (intermediate): RobertaIntermediate(\n",
       "            (dense): Linear(in_features=768, out_features=3072, bias=True)\n",
       "          )\n",
       "          (output): RobertaOutput(\n",
       "            (dense): Linear(in_features=3072, out_features=768, bias=True)\n",
       "            (LayerNorm): LayerNorm((768,), eps=1e-05, elementwise_affine=True)\n",
       "            (dropout): Dropout(p=0.1, inplace=False)\n",
       "          )\n",
       "        )\n",
       "      )\n",
       "    )\n",
       "  )\n",
       "  (classifier): RobertaClassificationHead(\n",
       "    (dense): Linear(in_features=768, out_features=768, bias=True)\n",
       "    (dropout): Dropout(p=0.1, inplace=False)\n",
       "    (out_proj): Linear(in_features=768, out_features=2, bias=True)\n",
       "  )\n",
       ")"
      ]
     },
     "execution_count": 6,
     "metadata": {},
     "output_type": "execute_result"
    }
   ],
   "source": [
    "model_flaubert.eval()\n",
    "model_camembert.eval()"
   ]
  },
  {
   "cell_type": "code",
   "execution_count": 15,
   "id": "a533ccde-32f2-45b8-9d63-909dd01da168",
   "metadata": {},
   "outputs": [
    {
     "data": {
      "text/plain": [
       "13"
      ]
     },
     "execution_count": 15,
     "metadata": {},
     "output_type": "execute_result"
    }
   ],
   "source": [
    "test = test_dataset_flaubert[1]\n",
    "\n",
    "print(test.keys())\n",
    "output = model_flaubert(attention_mask = torch.tensor([test[\"attention_mask\"]]),\n",
    "                        input_ids = torch.tensor([test[\"input_ids\"]])\n",
    "                       )\n",
    "\n",
    "print(len(output.hidden_states))"
   ]
  },
  {
   "cell_type": "code",
   "execution_count": 13,
   "id": "5ea3e791-550d-4059-b048-6642e6fbd06f",
   "metadata": {},
   "outputs": [],
   "source": [
    "test = test_dataset_camembert[0]\n",
    "\n",
    "output = model_camembert(attention_mask = torch.tensor([test[\"attention_mask\"]]), input_ids = torch.tensor([test[\"input_ids\"]]))"
   ]
  },
  {
   "cell_type": "code",
   "execution_count": 14,
   "id": "3917bf28-4f78-4928-a381-b7adfa09f127",
   "metadata": {},
   "outputs": [
    {
     "data": {
      "text/plain": [
       "13"
      ]
     },
     "execution_count": 14,
     "metadata": {},
     "output_type": "execute_result"
    }
   ],
   "source": [
    "len(output.hidden_states)"
   ]
  },
  {
   "cell_type": "markdown",
   "id": "7f8285f1-9bb9-4f01-8fe1-3717b8b44826",
   "metadata": {},
   "source": [
    "# Cosine study"
   ]
  },
  {
   "cell_type": "code",
   "execution_count": 26,
   "id": "5fe54bc9-5929-4805-860e-f2120b2204b8",
   "metadata": {},
   "outputs": [],
   "source": [
    "def mat_sim (layer , attention_mask) :\n",
    "    '''\n",
    "    cosine matrix (similarity matrix)\n",
    "    input : layer --> torch tensor of size [batch_size , nb_token , embedding_dimension].\n",
    "            attention_mask --> list of binary which word is a padd or not.\n",
    "    '''\n",
    "    \n",
    "    # with the dataset we are nb_token = 512\n",
    "    nb_token = layer.shape[1]\n",
    "    \n",
    "    l = []\n",
    "    k = 0\n",
    "    for i in range(nb_token) :\n",
    "        if attention_mask[i] == 1 :\n",
    "            '''\n",
    "            check of the padding\n",
    "            '''\n",
    "            l.append(list(layer[0,i,:].detach().numpy()))\n",
    "            k+=1\n",
    "        else :\n",
    "            '''\n",
    "            stop the loop\n",
    "            '''\n",
    "            break\n",
    "    \n",
    "    l = np.array(l).T\n",
    "    \n",
    "    \n",
    "    res = np.zeros((k,k))\n",
    "    \n",
    "    for i in range(k) :\n",
    "        for j in range(k) :\n",
    "            # cosine calculus\n",
    "            res[i,j] = np.dot(l[:,i],l[:,j])/(np.linalg.norm(l[:,i])*np.linalg.norm(l[:,j]))\n",
    "            \n",
    "    return res , k"
   ]
  },
  {
   "cell_type": "code",
   "execution_count": 27,
   "id": "44b89786-e06d-41ab-b1d7-10ba9f94089f",
   "metadata": {},
   "outputs": [],
   "source": [
    "def construct_df_dist(datasets , type_model = \"flaubert\") :\n",
    "\n",
    "    '''\n",
    "    input : dataset --> object of the class \n",
    "\n",
    "    output : df_dist --> dataframe which contains the different values of the cosines\n",
    "             df_var  --> dataframe which contains the variance of the cosine for each sentence of the dataset\n",
    "    '''\n",
    "\n",
    "    nb_layer = 13           # layers on flaubert\n",
    "\n",
    "    mat_var = {}            # similarity matrices\n",
    "\n",
    "    mat_dist = {}           # cosine distribution\n",
    "\n",
    "    for i in range(nb_layer) :\n",
    "        mat_dist[i] = []\n",
    "        mat_var[i] = []\n",
    "\n",
    "    '''\n",
    "    iteration on the dataset\n",
    "    '''\n",
    "    for data in datasets :\n",
    "        \n",
    "        # store the output\n",
    "        output = None\n",
    "        \n",
    "        if type_model == \"flaubert\" :\n",
    "            output = model_flaubert(attention_mask = torch.tensor([data[\"attention_mask\"]]),\n",
    "                        input_ids = torch.tensor([data[\"input_ids\"]])\n",
    "                       )\n",
    "        else :\n",
    "            output = model_camembert(attention_mask = torch.tensor([data[\"attention_mask\"]]), \n",
    "                                     input_ids = torch.tensor([data[\"input_ids\"]]))\n",
    "\n",
    "        # we store the hidden_states\n",
    "        hidden_states = output.hidden_states\n",
    "\n",
    "        for i in range(nb_layer) :\n",
    "            \n",
    "            curr_layer = hidden_states[i]\n",
    "            mat_cos , n = mat_sim(curr_layer ,data[\"attention_mask\"])   # cosine matrice\n",
    "            \n",
    "            l = list(mat_cos[np.triu_indices(n,k=1)]) \n",
    "            \n",
    "            mat_var[i].append(np.var(l)) \n",
    "            mat_dist[i] += l\n",
    "\n",
    "    df_var = pd.DataFrame(mat_var)\n",
    "    df_dist = pd.DataFrame(mat_dist)\n",
    "\n",
    "    new_col = ['layer'+\"_\"+str(i+1) for i in df_var.columns]\n",
    "\n",
    "    d = dict(zip(df_var.columns , new_col))\n",
    "\n",
    "    df_var.rename(columns = d,\n",
    "                inplace = True)\n",
    "\n",
    "    df_dist.rename(columns = d,\n",
    "                inplace = True)\n",
    "\n",
    "    return df_dist , df_var\n"
   ]
  },
  {
   "cell_type": "code",
   "execution_count": 28,
   "id": "ea2d7a95-d1b6-40ca-a13e-2404a180a22f",
   "metadata": {},
   "outputs": [],
   "source": [
    "def df_cos(df_dist) :\n",
    "    \n",
    "    '''\n",
    "    plot the boxplot of the cosines\n",
    "    '''\n",
    "    \n",
    "    dist_vect = []\n",
    "    legend_vect = []\n",
    "    \n",
    "    for column in df_dist:\n",
    "        dist_vect += list(df_dist[column].values)\n",
    "        legend_vect += [column]*len(df_dist[column])\n",
    "        \n",
    "    df =  pd.DataFrame({\"layer\" : legend_vect , \"cosines\" : dist_vect})\n",
    "        \n",
    "    return df"
   ]
  },
  {
   "cell_type": "code",
   "execution_count": 11,
   "id": "4361a1db",
   "metadata": {},
   "outputs": [],
   "source": [
    "import seaborn as sns\n",
    "import matplotlib.pyplot as plt\n",
    "sns.set_theme()"
   ]
  },
  {
   "cell_type": "code",
   "execution_count": 44,
   "id": "5d470b73",
   "metadata": {},
   "outputs": [
    {
     "data": {
      "image/png": "[encoded data removed]",
      "text/plain": [
       "<Figure size 1440x720 with 1 Axes>"
      ]
     },
     "metadata": {},
     "output_type": "display_data"
    }
   ],
   "source": [
    "\n",
    "figure = plt.figure(figsize = (20,10))\n",
    "# work on flaubert\n",
    "df_dist , df_var = construct_df_dist(test_dataset_flaubert)\n",
    "cos_values = df_cos(df_dist)\n",
    "fig = sns.boxplot(x=\"layer\" , y = \"cosines\",data = cos_values)"
   ]
  },
  {
   "cell_type": "code",
   "execution_count": 45,
   "id": "fcdb18d7",
   "metadata": {},
   "outputs": [
    {
     "data": {
      "image/png": "[encoded data removed]",
      "text/plain": [
       "<Figure size 1440x720 with 1 Axes>"
      ]
     },
     "metadata": {},
     "output_type": "display_data"
    }
   ],
   "source": [
    "# work on camembert\n",
    "df_dist , df_var = construct_df_dist(test_dataset_camembert , type_model=\"camembert\")\n",
    "cos_values = df_cos(df_dist)\n",
    "figure = plt.figure(figsize = (20,10))\n",
    "fig = sns.boxplot(x=\"layer\" , y = \"cosines\",data = cos_values)"
   ]
  },
  {
   "cell_type": "markdown",
   "id": "575b75d4",
   "metadata": {},
   "source": [
    "# Vcov study"
   ]
  },
  {
   "cell_type": "code",
   "execution_count": 8,
   "id": "760893e7",
   "metadata": {},
   "outputs": [],
   "source": [
    "def cov_emb (layer , attention_mask):\n",
    "    '''\n",
    "    input : layer --> torch tensor\n",
    "            attention_mask --> an array of 0,1 (logical mask)\n",
    "    '''\n",
    "       \n",
    "    nb_tok = layer.shape[1]\n",
    "    \n",
    "    l = []\n",
    "    \n",
    "    for i in range(nb_tok) :\n",
    "        if attention_mask[i]==1 :\n",
    "            l.append(list(layer[0,i,:].detach().numpy()))\n",
    "        else :\n",
    "            # if we encounter a padding all the rest is padding\n",
    "            break\n",
    "    \n",
    "    l = np.array(l).T\n",
    "    \n",
    "    return(np.cov(l))"
   ]
  },
  {
   "cell_type": "code",
   "execution_count": 9,
   "id": "cf8232fe",
   "metadata": {},
   "outputs": [],
   "source": [
    "# construction of the dataframe for the boxplot of the trace\n",
    "\n",
    "def df_trace_vcov(dataset , type_model = \"flaubert\" , nb_layer = 13) :\n",
    "\n",
    "    legend_vect = []\n",
    "    trace_vect = []\n",
    "\n",
    "    for data in dataset :\n",
    "        output = None\n",
    "        \n",
    "        # output of the model\n",
    "        if type_model == \"flaubert\" :\n",
    "            output = model_flaubert(attention_mask = torch.tensor([data[\"attention_mask\"]]),\n",
    "                        input_ids = torch.tensor([data[\"input_ids\"]])\n",
    "                       )\n",
    "        else :\n",
    "            output = model_camembert(attention_mask = torch.tensor([data[\"attention_mask\"]]), \n",
    "                                     input_ids = torch.tensor([data[\"input_ids\"]]))\n",
    "\n",
    "        # hidden_states of the transformers\n",
    "        hidden_states = output.hidden_states\n",
    "\n",
    "        for i in range(nb_layer) :\n",
    "            curr_layer = hidden_states[i]\n",
    "            lay = \"layer_\"+str(i+1)\n",
    "            buff = np.trace(cov_emb(curr_layer , data[\"attention_mask\"]))\n",
    "            legend_vect.append(lay)\n",
    "            trace_vect.append(buff)\n",
    "\n",
    "    df = pd.DataFrame({\"layer\":legend_vect,\n",
    "                        \"trace\" : trace_vect})\n",
    "\n",
    "    return df\n",
    "        "
   ]
  },
  {
   "cell_type": "code",
   "execution_count": 10,
   "id": "b3aebf38",
   "metadata": {},
   "outputs": [],
   "source": [
    "test_dataset_camembert = tokenized_datasets_camembert[\"test\"].select(range(100))\n",
    "test_dataset_flaubert = tokenized_datasets_flaubert[\"test\"].select(range(100))"
   ]
  },
  {
   "cell_type": "code",
   "execution_count": 11,
   "id": "7d599eee",
   "metadata": {},
   "outputs": [
    {
     "data": {
      "image/png": "[encoded data removed]",
      "text/plain": [
       "<Figure size 1440x720 with 1 Axes>"
      ]
     },
     "metadata": {},
     "output_type": "display_data"
    }
   ],
   "source": [
    "# work on flaubert\n",
    "figure = plt.figure(figsize = (20,10))\n",
    "df = df_trace_vcov(test_dataset_flaubert)\n",
    "fig = sns.boxplot(x=\"layer\" , y = \"trace\", data = df)"
   ]
  },
  {
   "cell_type": "code",
   "execution_count": 12,
   "id": "de353013",
   "metadata": {},
   "outputs": [
    {
     "data": {
      "image/png": "[encoded data removed]",
      "text/plain": [
       "<Figure size 1440x720 with 1 Axes>"
      ]
     },
     "metadata": {},
     "output_type": "display_data"
    }
   ],
   "source": [
    "# work on camembert\n",
    "figure = plt.figure(figsize = (20,10))\n",
    "df = df_trace_vcov(test_dataset_camembert , type_model=\"camembert\")\n",
    "fig = sns.boxplot(x=\"layer\" , y = \"trace\",data = df)"
   ]
  },
  {
   "cell_type": "markdown",
   "id": "7a6734e6",
   "metadata": {},
   "source": [
    "# Erank study"
   ]
  },
  {
   "cell_type": "code",
   "execution_count": 7,
   "id": "64713ea7",
   "metadata": {},
   "outputs": [],
   "source": [
    "def erank_metric(W) :\n",
    "    #   --> we assume that nrow(W) > ncol(W)\n",
    "    #   --> decomposition of the matrix in singular value\n",
    "    u, s, vh = np.linalg.svd(W, full_matrices=True)\n",
    "    #   s --> singular values of the matrix W\n",
    "    \n",
    "    s1 = np.sum(s)      # sum of the singular values\n",
    "\n",
    "    k = s/s1\n",
    "    k = k*np.log(k)\n",
    "    \n",
    "    return(np.exp(-sum(k)))"
   ]
  },
  {
   "cell_type": "code",
   "execution_count": 14,
   "id": "abeabebd",
   "metadata": {},
   "outputs": [],
   "source": [
    "def calculus_erank(dataset , type_model = \"flaubert\" , nb_tok = 512) :\n",
    "    \n",
    "    layer_W  = {}\n",
    "\n",
    "    for i in range(13):\n",
    "        layer_W[i+1] = []\n",
    "\n",
    "    for data in dataset :\n",
    "        output = None\n",
    "        \n",
    "        # output of the model\n",
    "        if type_model == \"flaubert\" :\n",
    "            output = model_flaubert(attention_mask = torch.tensor([data[\"attention_mask\"]]),\n",
    "                        input_ids = torch.tensor([data[\"input_ids\"]])\n",
    "                       )\n",
    "        else :\n",
    "            output = model_camembert(attention_mask = torch.tensor([data[\"attention_mask\"]]), \n",
    "                                     input_ids = torch.tensor([data[\"input_ids\"]]))\n",
    "\n",
    "        # hidden_states of the transformers\n",
    "        hidden_states = output.hidden_states\n",
    "\n",
    "        for i in range(13):\n",
    "            curr_layer = hidden_states[i][0]   #   --> current layer.\n",
    "\n",
    "            for t in range(nb_tok) :\n",
    "                if data[\"attention_mask\"][t] == 1:\n",
    "                    emb_tok = list(curr_layer[t,:].detach().numpy())\n",
    "                    layer_W[i+1].append(emb_tok)\n",
    "                else :\n",
    "                    break\n",
    "\n",
    "    d = {\"erank\" : [] , \"layer\" : []}\n",
    "    for i in range(13):\n",
    "        d[\"erank\"].append(erank_metric(np.array(layer_W[i+1])))\n",
    "        d[\"layer\"].append(\"layer_\"+str(i+1))\n",
    "\n",
    "    return pd.DataFrame(d)"
   ]
  },
  {
   "cell_type": "code",
   "execution_count": 15,
   "id": "fc1bda1d",
   "metadata": {},
   "outputs": [],
   "source": [
    "test_dataset_camembert = tokenized_datasets_camembert[\"test\"].select(range(10))\n",
    "test_dataset_flaubert = tokenized_datasets_flaubert[\"test\"].select(range(10))"
   ]
  },
  {
   "cell_type": "code",
   "execution_count": 19,
   "id": "3ca055a5",
   "metadata": {},
   "outputs": [
    {
     "data": {
      "text/plain": [
       "<AxesSubplot:xlabel='layer', ylabel='erank'>"
      ]
     },
     "execution_count": 19,
     "metadata": {},
     "output_type": "execute_result"
    },
    {
     "data": {
      "image/png": "[encoded data removed]",
      "text/plain": [
       "<Figure size 1440x720 with 1 Axes>"
      ]
     },
     "metadata": {},
     "output_type": "display_data"
    }
   ],
   "source": [
    "figure = plt.figure(figsize = (20,10))\n",
    "df = calculus_erank(dataset = test_dataset_flaubert , type_model=\"flaubert\")\n",
    "sns.barplot(x = \"layer\" , y = \"erank\" , data = df)"
   ]
  },
  {
   "cell_type": "code",
   "execution_count": 20,
   "id": "09761858",
   "metadata": {},
   "outputs": [
    {
     "data": {
      "text/plain": [
       "<AxesSubplot:xlabel='layer', ylabel='erank'>"
      ]
     },
     "execution_count": 20,
     "metadata": {},
     "output_type": "execute_result"
    },
    {
     "data": {
      "image/png": "[encoded data removed]",
      "text/plain": [
       "<Figure size 1440x720 with 1 Axes>"
      ]
     },
     "metadata": {},
     "output_type": "display_data"
    }
   ],
   "source": [
    "df = calculus_erank(dataset = test_dataset_camembert , type_model=\"camembert\")\n",
    "figure = plt.figure(figsize = (20,10))\n",
    "sns.barplot(x = \"layer\" , y = \"erank\" , data = df)"
   ]
  },
  {
   "cell_type": "code",
   "execution_count": null,
   "id": "7dba6485",
   "metadata": {},
   "outputs": [],
   "source": []
  }
 ],
 "metadata": {
  "kernelspec": {
   "display_name": "Python 3 (ipykernel)",
   "language": "python",
   "name": "python3"
  },
  "language_info": {
   "codemirror_mode": {
    "name": "ipython",
    "version": 3
   },
   "file_extension": ".py",
   "mimetype": "text/x-python",
   "name": "python",
   "nbconvert_exporter": "python",
   "pygments_lexer": "ipython3",
   "version": "3.8.11"
  }
 },
 "nbformat": 4,
 "nbformat_minor": 5
}
